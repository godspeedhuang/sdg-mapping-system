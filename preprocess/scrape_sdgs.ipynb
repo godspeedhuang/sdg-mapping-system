{
 "cells": [
  {
   "cell_type": "code",
   "execution_count": 6,
   "metadata": {},
   "outputs": [],
   "source": [
    "import requests\n",
    "from bs4 import BeautifulSoup\n",
    "from lxml import etree\n",
    "\n",
    "url = 'https://unstats.un.org/sdgs/metadata/'\n",
    "response = requests.get(url)\n",
    "html_content = response.content\n",
    "\n",
    "tree = etree.HTML(html_content)\n",
    "# soup = BeautifulSoup(response.text, 'html.parser')\n",
    "# data = response.json()\n"
   ]
  },
  {
   "cell_type": "code",
   "execution_count": 8,
   "metadata": {},
   "outputs": [],
   "source": [
    "downloaded_path = r'../un_indicator_metadata'\n",
    "web_root = r'https://unstats.un.org'\n",
    "\n",
    "\n",
    "downloaded_xpath = '/html/body/div[1]/div/section/div/div/div/div/div[2]/div[2]/div[1]/div[2]/ul[1]/li/ul/li[1]/small/span/a[2]/@href'\n",
    "downloaded_url = f'{web_root}{tree.xpath(downloaded_xpath)[0]}'\n",
    "data = requests.get(downloaded_url)\n",
    "if data.status_code == 200:\n",
    "    with open('test.docx', 'wb') as f:\n",
    "      for chunk in data.iter_content(1024 * 1024 * 2):  # 2 MB chunks\n",
    "        f.write(chunk)"
   ]
  },
  {
   "cell_type": "code",
   "execution_count": null,
   "metadata": {},
   "outputs": [],
   "source": [
    "from docx import Document\n",
    "\n",
    "doc = Document('test.docx')\n",
    "# paragraphs = []\n",
    "# for paragraph in doc.paragraphs:\n",
    "#     paragraphs.append(paragraph.text)\n",
    "print(doc)"
   ]
  },
  {
   "cell_type": "code",
   "execution_count": null,
   "metadata": {},
   "outputs": [],
   "source": [
    "goal_num = 0\n",
    "collection = dict()\n",
    "downloaded_path = r'../un_indicator_metadata/'\n",
    "\n",
    "for _ in range(1, 18):\n",
    "    goal_num+=1\n",
    "    target_num = 0\n",
    "    while True:\n",
    "        target_num+=1\n",
    "        indicator_num = 0\n",
    "        while True:\n",
    "            indicator_num+=1\n",
    "            \n",
    "            # Scrape words\n",
    "            num_xpath = f'/html/body/div[1]/div/section/div/div/div/div/div[2]/div[2]/div[{goal_num}]/div[2]/ul[{target_num}]/li[{indicator_num}]/small/strong/text()[normalize-space()]'\n",
    "            text_xpath = f'/html/body/div[1]/div/section/div/div/div/div/div[2]/div[2]/div[{goal_num}]/div[2]/ul[{target_num}]/li[{indicator_num}]/small/text()[normalize-space()]'\n",
    "            indicator_code = tree.xpath(num_xpath)\n",
    "            indicator_text = tree.xpath(text_xpath)\n",
    "\n",
    "            if not indicator_code or not indicator_text:\n",
    "                break\n",
    "            indicator_code_res = indicator_code[0].strip().replace(':','').replace(' ', '').replace('.','-')\n",
    "            indicator_text_res = indicator_text[0].strip()\n",
    "\n",
    "            # Download doc files\n",
    "            # Only one indicator\n",
    "            downloaded_xpath_3 = f'/html/body/div[1]/div/section/div/div/div/div/div[2]/div[2]/div[{goal_num}]/div[2]/ul[{target_num}]/li/ul/li[1]/small/span/a[2]/@href'\n",
    "            # more than one indicator\n",
    "            downloaded_xpath_2 = f'/html/body/div[1]/div/section/div/div/div/div/div[2]/div[2]/div[{goal_num}]/div[2]/ul[{target_num}]/li[{indicator_num}]/ul/li/small/span/a[2]/@href'\n",
    "            # more than one files\n",
    "            downloaded_xpath_1 = f'/html/body/div[1]/div/section/div/div/div/div/div[2]/div[2]/div[{goal_num}]/div[2]/ul[{target_num}]/li[{indicator_num}]/ul/small/span/a[2]/@href'\n",
    "            \n",
    "            if tree.xpath(downloaded_xpath_1):\n",
    "                downloaded_xpath_part = tree.xpath(downloaded_xpath_1)\n",
    "            elif tree.xpath(downloaded_xpath_2):\n",
    "                downloaded_xpath_part = tree.xpath(downloaded_xpath_2)\n",
    "            elif tree.xpath(downloaded_xpath_3):\n",
    "                downloaded_xpath_part = tree.xpath(downloaded_xpath_3)\n",
    "            else:\n",
    "                print(f\"{indicator_code_res}, No files\")\n",
    "                break\n",
    "            \n",
    "            # if downloaded_xpath_part:\n",
    "            downloaded_url = f'{web_root}{downloaded_xpath_part[0]}'\n",
    "            data = requests.get(downloaded_url)\n",
    "            print(fr'{downloaded_path}{indicator_code_res}.docx')\n",
    "            if data.status_code == 200:\n",
    "                with open(fr'{downloaded_path}{indicator_code_res}.docx', 'wb') as f:\n",
    "                    for chunk in data.iter_content(1024 * 1024 * 2):  # 2 MB chunks\n",
    "                        f.write(chunk)\n",
    "\n",
    "            collection[indicator_code_res] = indicator_text_res\n",
    "        \n",
    "        next_target_num = target_num + 1\n",
    "        next_target_xpath = f'/html/body/div[1]/div/section/div/div/div/div/div[2]/div[2]/div[{goal_num}]/div[2]/ul[{next_target_num}]'\n",
    "        next_target_exists = tree.xpath(next_target_xpath)\n",
    "        \n",
    "        if not next_target_exists:\n",
    "            break"
   ]
  },
  {
   "cell_type": "code",
   "execution_count": 32,
   "metadata": {},
   "outputs": [],
   "source": [
    "import pandas as pd\n",
    "\n",
    "indicators = pd.DataFrame(pd.Series(collection, name='Indicator')).reset_index(names='ID')"
   ]
  },
  {
   "cell_type": "code",
   "execution_count": 33,
   "metadata": {},
   "outputs": [],
   "source": [
    "from docx import Document\n",
    "import os\n",
    "import re\n",
    "folder =  r'../un_indicator_metadata/'\n",
    "filenames = os.listdir(folder)\n",
    "filename_list = [filename for filename in filenames if filename.endswith('.docx')]\n",
    "# document = Document(filename)\n",
    "# __full__text = []\n",
    "\n",
    "def read_docx_paragraphs(file_path):\n",
    "    doc = Document(file_path)\n",
    "    paragraphs = []\n",
    "    for paragraph in doc.paragraphs:\n",
    "        paragraphs.append(paragraph.text)\n",
    "    return paragraphs\n",
    "\n",
    "def find_definition_and_concepts(paragraphs):\n",
    "    found = False\n",
    "    definition_and_concepts = []\n",
    "    for paragraph in paragraphs:\n",
    "        if found:\n",
    "            if paragraph.startswith(\"2.b. Unit of measure\"):\n",
    "                break\n",
    "            definition_and_concepts.append(paragraph)\n",
    "        if paragraph.startswith(\"2. Definition, concepts, and classifications\"):\n",
    "            found = True\n",
    "    return definition_and_concepts\n",
    "\n",
    "# paragraphs = read_docx_paragraphs(file_path=filename)\n",
    "# target_paragraph = find_definition_and_concepts(paragraphs)\n",
    "# print(target_paragraph)\n",
    "# definitions = list()\n",
    "for idx, filename in enumerate(filename_list):\n",
    "    # match = re.search(r'-(\\d{2}-\\w{2}-\\d{2})\\.docx', filename)\n",
    "    # matched_text = re.sub(r'0','',match.group(1))\n",
    "    # matched_text = matched_text.replace('-','.')\n",
    "    paragraphs = read_docx_paragraphs(file_path=os.path.join(folder, filename))\n",
    "    target_paragraph = find_definition_and_concepts(paragraphs=paragraphs)\n",
    "    definition = ''\n",
    "    for paragraph in target_paragraph[1:]:\n",
    "        definition+=paragraph\n",
    "    # definitions.append(definition)\n",
    "    \n",
    "    indicators.loc[(indicators['ID']==filename[:-5]), 'Description'] = definition\n",
    "    "
   ]
  },
  {
   "cell_type": "code",
   "execution_count": 41,
   "metadata": {},
   "outputs": [
    {
     "data": {
      "text/plain": [
       "4    Definition:The proportion of population living in households with access to basic services is defined as the proportion of population using public service provision systems that meet basic human needs including drinking water, sanitation, hygiene, energy, mobility, waste collection, health care, education and information technologies. The basic services indicator is therefore based on 9 components. These components are captured in various standalone indicators of the SDGs, which means that the concepts and definitions of SDG indicator 1.4.1 will be derived from or are the same as those of these specific SDG indicators. Concepts:The term ‘access to basic services’ implies that sufficient and affordable service is reliably available with adequate quality.Access to Basic Drinking Water Services refers to the use of drinking water from an improved source with a collection time of not more than 30 minutes for a round trip, including queuing. ‘Improved’ drinking water sources include the following:: piped water, boreholes or tube wells, protected dug wells, protected springs, rainwater, water kiosks, and packaged or delivered water. This definition is based on the WHO/UNICEF Joint Monitoring Programme (JMP) drinking water ladder and is the foundation for SDG indicator 6.1.1 - Proportion of population using safely managed drinking water services. Access to Basic Sanitation Services refers to the use of improved facilities that are not shared with other households. An ‘improved sanitation facility’ is defined as one designed to hygienically separate human excreta from human contact. Improved sanitation facilities include wet sanitation technologies such as flush or pour flush toilets connected to sewer systems, septic tanks or pit latrines; and dry sanitation technologies such as dry pit latrines with slabs (constructed from materials that are durable and easy to clean), ventilated improved pit (VIP) latrines, pit latrines with a slab, composting toilets and container-based sanitation. If a household uses a flush or pour flush toilet but does not know where it is flushed to, the sanitation facility is considered to be improved since the household may not be aware about whether it flushes to a sewer, septic tank or pit latrine. This definition is based on the JMP sanitation ladder and is the foundation for SDG indicator 6.2.1a - Proportion of population using safely managed sanitation services . Access to Basic Hygiene Facilities refers to availability of a handwashing facility with soap and water at home. Handwashing facilities may be located within the dwelling, yard or plot. Handwashing facilities may be fixed or mobile and include a sink with tap water, buckets with taps, tippy-taps, and jugs or basins designated for handwashing. Soap includes bar soap, liquid soap, powder detergent, and soapy water but does not include ash, soil, sand or other handwashing agents.  This definition is based on the JMP hygiene ladder and is the foundation for SDG indicator 6.2.1b - Proportion of population  with handwashing facilities with soap and water available at home. For many low and middle-income countries, achieving universal access to basic drinking water, sanitation and hygiene remains a high priority, which will help them achieve access to ‘safely managed services’, the target for SDG targets 6.1 and 6.2. Access to clean fuels and technology refers to use of fuels and technology that are defined by the emission rate targets and specific fuel recommendations (i.e., against unprocessed coal and kerosene) included in the normative guidance WHO guidelines for indoor air quality: household fuel combustion. This component will be captured through SDG 7.1.2 - Percentage of population with primary reliance on clean fuels and technology.Access to Basic Mobility refers to having convenient access to transport in a rural context (SDG 9.1.1) or having convenient access to public transport in an urban context (SDG 11.2.1).  Access to mobility rural contextTo eradicate poverty, communities need to be connected to socio-economic opportunities by roads that are passable all season and attract reliable and affordable public transport services. In many areas, safe footpaths, footbridges and waterways may be required in conjunction with, or as an alternative, to roads. For reasons of simplification, specific emphasis was given to roads in this definition (based on the Rural Access Index - RAI - percentage of the population <2km from an all-season road (equivalent to a walk of 20-25 mins)) since road transport reflects accessibility for the great majority of people in rural contexts. In those situations where another mode, such as water transport is dominant the definition will be modified and contextualized to reflect and capture those aspects. Access to mobility has shown some of the largest impacts on poverty reduction and has a strong correlation to educational, economic and health outcomes (“transport as an enabler”).   RAI is the most widely accepted metric for tracking access to transport in rural areas and has been included in the SDGs as SDG indicator 9.1.1 - Proportion of the rural population who live within 2 km of an all-season road. This component will be therefore captured through SDG 9.1.1.The existing RAI methodology relies on household level survey data – however, is currently being revised into a GIS-based index that exploits advances in digital technology with the aim to create a more accurate and cost-effective tool. Access to mobility urban contextThe urban context of access to transport is measured utilizing the methodology of SDG 11.2.1 –Proportion of the population that has convenient access to public transport by sex, age and persons with disabilities. The metadata methodology is available (UN-Habitat being the custodian agency). City delimitation is conducted to identify the urban area which will act as the spatial analysis scope as inventory of available public stops in the service areas is collected. Identification of population served by available street network allows for measurement 500m and/or 1km walkable distance to nearest stop (“service area”). We know that measuring spatial access is not sufficient and does not address the temporal dimension associated with the availability of public transport. Complementary to the above, other parameters of tracking the transport target related to street density/no. of intersections, affordability, or quality in terms of safety, travel time, universal access, are all tracked. Access to Basic Waste Collection Services refers to the access that the population have to a reliable waste collection service, including both formal municipal and informal sector services. This is connected to and will be captured through SDG Indicator 11.6.1 - Proportion of municipal solid waste collected and managed in controlled facilities out of total municipal waste generated, by cities. A ‘collection service’ may be ‘door to door’ or by deposit into a community container. ‘Collection’ includes collection for recycling as well as for treatment and disposal (includes e.g., collection of recyclables by itinerant waste buyers). ‘Reliable’ means regular - frequency will depend on local conditions and on any pre-separation of the waste. For example, both mixed waste and organic waste are often collected daily in tropical climates for public health reasons, and generally at least weekly; source-separated dry recyclables may be collected less frequently.Access to Basic Health Care Services refers to access to services that cover in and out-of-area emergency services, in-patient hospital and physician care, outpatient medical services, laboratory and radiology services, and preventive health services. Basic health care services also extend to access to limited treatment of mental illness and substance abuse in accordance with minimum standards prescribed by local and national ministries of health. This is connected to and will be measured through SDG indicator 3.8.1 – Coverage of essential health services.Access to Basic Education refers to access to education services that provides all learners with capabilities they require to become economically productive, develop sustainable livelihoods, contribute to peaceful and democratic societies and enhance individual well-being. This is connected to and will be captured through SDG 4.1.1 - Proportion of children and young people (a) in grades 2/3; (b) at the end of primary; and (c) at the end of lower secondary achieving at least a minimum proficiency level in (i) reading and (ii) mathematics, by sex.  Access to Basic Information Services refers to having a broadband internet access. Broadband is defined as technologies that deliver advertised download speeds of at least 256 kbit/s. Connecting the 50% of the world that is still offline means, in large part, ensuring that everyone, everywhere is able to access an internet that is affordable. The main types of broadband services are: 1) Fixed (wired) broadband network, such as DSL, cable modem, high speed leased lines, fibre to-the-home/building, powerline and other fixed (wired) broadband; 2) Terrestrial fixed (wireless) broadband network, such as WiMAX, fixed CDMA; 3) Satellite broadband network (via a satellite connection); 4) Mobile broadband network (at least 3G, e.g. UMTS) via a handset and 5) Mobile broadband network (at least 3G, e.g. UMTS) via a card (e.g. integrated SIM card in a computer) or USB modem. This is connected to and will be captured through SDG 9.c.1 - Proportion of population covered by a mobile network, by technology.\n",
       "Name: Description, dtype: object"
      ]
     },
     "execution_count": 41,
     "metadata": {},
     "output_type": "execute_result"
    }
   ],
   "source": [
    "# Validation\n",
    "pd.set_option('display.max_colwidth', None)\n",
    "indicators.loc[indicators['ID']=='Indicator1-4-1', 'Description']"
   ]
  },
  {
   "cell_type": "code",
   "execution_count": 43,
   "metadata": {},
   "outputs": [],
   "source": [
    "indicators.to_csv('un_sdgs_indicators.csv')"
   ]
  },
  {
   "cell_type": "code",
   "execution_count": null,
   "metadata": {},
   "outputs": [],
   "source": []
  }
 ],
 "metadata": {
  "kernelspec": {
   "display_name": ".venv",
   "language": "python",
   "name": "python3"
  },
  "language_info": {
   "codemirror_mode": {
    "name": "ipython",
    "version": 3
   },
   "file_extension": ".py",
   "mimetype": "text/x-python",
   "name": "python",
   "nbconvert_exporter": "python",
   "pygments_lexer": "ipython3",
   "version": "3.12.2"
  }
 },
 "nbformat": 4,
 "nbformat_minor": 2
}
